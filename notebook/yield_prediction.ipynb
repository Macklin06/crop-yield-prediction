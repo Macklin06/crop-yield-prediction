{
 "cells": [
  {
   "cell_type": "markdown",
   "id": "dfc37819-e9df-4ae2-84b6-9ee70b68abb5",
   "metadata": {},
   "source": [
    "# Yield Prediction using Random Forest Regressor\n",
    "\n",
    "This notebook implements a Random Forest Regressor model to predict the yield."
   ]
  },
  {
   "cell_type": "code",
   "execution_count": 27,
   "id": "534edaea-55e3-40fd-a0e7-ec3fca39a255",
   "metadata": {},
   "outputs": [],
   "source": [
    "import pandas as pd\n",
    "import numpy as np\n",
    "import optuna\n",
    "from sklearn.ensemble import RandomForestRegressor\n",
    "from sklearn.metrics import mean_absolute_error\n",
    "from sklearn.model_selection import cross_val_score, KFold\n",
    "# Load data\n",
    "train = pd.read_csv(\"train.csv\")\n",
    "test = pd.read_csv(\"test.csv\")"
   ]
  },
  {
   "cell_type": "markdown",
   "id": "70263167-35a1-4d06-aecf-fdda4368117c",
   "metadata": {},
   "source": [
    "## 2. Data Preprocessing"
   ]
  },
  {
   "cell_type": "code",
   "execution_count": 28,
   "id": "34a29248-59f0-46c6-bad4-2f25df1ccdd2",
   "metadata": {
    "editable": true,
    "slideshow": {
     "slide_type": ""
    },
    "tags": []
   },
   "outputs": [],
   "source": [
    "def preprocess_data(train, test):\n",
    "    X = train.drop(columns=[\"id\", \"Row#\", \"yield\"])\n",
    "    y = train[\"yield\"]\n",
    "    test_ids = test[\"id\"]\n",
    "    X_test = test.drop(columns=[\"id\", \"Row#\"])\n",
    "    return X, y, X_test, test_ids\n",
    "\n",
    "X, y, X_test, test_ids = preprocess_data(train, test)"
   ]
  },
  {
   "cell_type": "markdown",
   "id": "68c7cb7d-dc2c-4605-a578-1579a860d1a2",
   "metadata": {},
   "source": [
    "## 3. Defining Cross Validation"
   ]
  },
  {
   "cell_type": "markdown",
   "id": "adc47249-e6f2-4fe5-a39a-7fabbfae14e0",
   "metadata": {},
   "source": [
    "Here,This sets up 5-fold cross-validation and shuffle=True ensures random splitting."
   ]
  },
  {
   "cell_type": "code",
   "execution_count": 29,
   "id": "9f661936-0cf9-4db3-b386-655b1cae1911",
   "metadata": {},
   "outputs": [],
   "source": [
    "cv = KFold(n_splits=5, shuffle=True, random_state=42)"
   ]
  },
  {
   "cell_type": "markdown",
   "id": "e9d68bec-9987-48cc-9790-6951ede8939e",
   "metadata": {},
   "source": [
    "## 4. Defining the Optuna Objective Function"
   ]
  },
  {
   "cell_type": "markdown",
   "id": "5ef97044-077e-4344-a4e9-eb0cd981d634",
   "metadata": {},
   "source": [
    "it will try different combinations of hyperparameters (n_estimators, max_depth, etc.).\n",
    "For each set, it trains the model and checks how good it is using cross-validation.\n",
    "It returns the average MAE.\n",
    "(I received help from ChatGPT to explore Optuna and Random Forest tuning. I’m using this to learn how to improve model performance and understand cross-validation better)"
   ]
  },
  {
   "cell_type": "code",
   "execution_count": 30,
   "id": "5c7aa2b3-fba2-4477-8f0a-7f56f09fb9cc",
   "metadata": {},
   "outputs": [],
   "source": [
    "def objective(trial):\n",
    "    params = {\n",
    "        'n_estimators': trial.suggest_int('n_estimators', 100, 1000),\n",
    "        'max_depth': trial.suggest_int('max_depth', 5, 50),\n",
    "        'min_samples_split': trial.suggest_int('min_samples_split', 2, 10),\n",
    "        'min_samples_leaf': trial.suggest_int('min_samples_leaf', 1, 5),\n",
    "        'random_state': 42,\n",
    "        'n_jobs': -1\n",
    "    }\n",
    "\n",
    "    model = RandomForestRegressor(**params)\n",
    "    score = cross_val_score(model, X, y, cv=cv, scoring='neg_mean_absolute_error').mean()\n",
    "    return -score  # Since it's negative MAE"
   ]
  },
  {
   "cell_type": "markdown",
   "id": "666d4627-097a-4638-9035-79802131e557",
   "metadata": {},
   "source": [
    "## 5. Run optuna study"
   ]
  },
  {
   "cell_type": "code",
   "execution_count": 31,
   "id": "bd4e027a-4ad5-49c5-bb2d-cbb94c23f1ed",
   "metadata": {},
   "outputs": [
    {
     "name": "stderr",
     "output_type": "stream",
     "text": [
      "[I 2025-06-03 09:55:25,514] A new study created in memory with name: no-name-c64453a8-adeb-44d4-b37e-263cfc2d5fa5\n",
      "[I 2025-06-03 09:55:40,834] Trial 0 finished with value: 245.69991940017894 and parameters: {'n_estimators': 922, 'max_depth': 28, 'min_samples_split': 10, 'min_samples_leaf': 5}. Best is trial 0 with value: 245.69991940017894.\n",
      "[I 2025-06-03 09:55:49,582] Trial 1 finished with value: 246.17526887239924 and parameters: {'n_estimators': 509, 'max_depth': 26, 'min_samples_split': 10, 'min_samples_leaf': 4}. Best is trial 0 with value: 245.69991940017894.\n",
      "[I 2025-06-03 09:55:52,159] Trial 2 finished with value: 252.05284654194074 and parameters: {'n_estimators': 115, 'max_depth': 33, 'min_samples_split': 6, 'min_samples_leaf': 1}. Best is trial 0 with value: 245.69991940017894.\n",
      "[I 2025-06-03 09:56:08,020] Trial 3 finished with value: 247.24973039492278 and parameters: {'n_estimators': 882, 'max_depth': 46, 'min_samples_split': 8, 'min_samples_leaf': 3}. Best is trial 0 with value: 245.69991940017894.\n",
      "[I 2025-06-03 09:56:13,563] Trial 4 finished with value: 248.26027958642436 and parameters: {'n_estimators': 289, 'max_depth': 24, 'min_samples_split': 4, 'min_samples_leaf': 3}. Best is trial 0 with value: 245.69991940017894.\n",
      "[I 2025-06-03 09:56:23,832] Trial 5 finished with value: 252.78007105531998 and parameters: {'n_estimators': 448, 'max_depth': 45, 'min_samples_split': 4, 'min_samples_leaf': 1}. Best is trial 0 with value: 245.69991940017894.\n",
      "[I 2025-06-03 09:56:42,845] Trial 6 finished with value: 251.14735468059084 and parameters: {'n_estimators': 890, 'max_depth': 26, 'min_samples_split': 6, 'min_samples_leaf': 1}. Best is trial 0 with value: 245.69991940017894.\n",
      "[I 2025-06-03 09:56:52,711] Trial 7 finished with value: 245.82199795965113 and parameters: {'n_estimators': 670, 'max_depth': 11, 'min_samples_split': 4, 'min_samples_leaf': 1}. Best is trial 0 with value: 245.69991940017894.\n",
      "[I 2025-06-03 09:56:59,143] Trial 8 finished with value: 246.8454535317854 and parameters: {'n_estimators': 359, 'max_depth': 38, 'min_samples_split': 2, 'min_samples_leaf': 4}. Best is trial 0 with value: 245.69991940017894.\n",
      "[I 2025-06-03 09:57:07,660] Trial 9 finished with value: 244.8603668413325 and parameters: {'n_estimators': 624, 'max_depth': 10, 'min_samples_split': 2, 'min_samples_leaf': 1}. Best is trial 9 with value: 244.8603668413325.\n",
      "[I 2025-06-03 09:57:13,449] Trial 10 finished with value: 244.17768679852597 and parameters: {'n_estimators': 655, 'max_depth': 6, 'min_samples_split': 2, 'min_samples_leaf': 2}. Best is trial 10 with value: 244.17768679852597.\n",
      "[I 2025-06-03 09:57:20,185] Trial 11 finished with value: 243.06619668863397 and parameters: {'n_estimators': 676, 'max_depth': 7, 'min_samples_split': 2, 'min_samples_leaf': 2}. Best is trial 11 with value: 243.06619668863397.\n",
      "[I 2025-06-03 09:57:26,836] Trial 12 finished with value: 244.1689533329793 and parameters: {'n_estimators': 751, 'max_depth': 6, 'min_samples_split': 2, 'min_samples_leaf': 2}. Best is trial 11 with value: 243.06619668863397.\n",
      "[I 2025-06-03 09:57:41,531] Trial 13 finished with value: 249.00147214408707 and parameters: {'n_estimators': 748, 'max_depth': 16, 'min_samples_split': 3, 'min_samples_leaf': 2}. Best is trial 11 with value: 243.06619668863397.\n",
      "[I 2025-06-03 09:57:55,957] Trial 14 finished with value: 248.6073869557775 and parameters: {'n_estimators': 767, 'max_depth': 16, 'min_samples_split': 5, 'min_samples_leaf': 2}. Best is trial 11 with value: 243.06619668863397.\n",
      "[I 2025-06-03 09:58:01,732] Trial 15 finished with value: 246.60779534081863 and parameters: {'n_estimators': 759, 'max_depth': 5, 'min_samples_split': 8, 'min_samples_leaf': 2}. Best is trial 11 with value: 243.06619668863397.\n",
      "[I 2025-06-03 09:58:11,842] Trial 16 finished with value: 247.73418837172258 and parameters: {'n_estimators': 549, 'max_depth': 18, 'min_samples_split': 3, 'min_samples_leaf': 3}. Best is trial 11 with value: 243.06619668863397.\n",
      "[I 2025-06-03 09:58:27,159] Trial 17 finished with value: 245.81822787127922 and parameters: {'n_estimators': 990, 'max_depth': 12, 'min_samples_split': 3, 'min_samples_leaf': 2}. Best is trial 11 with value: 243.06619668863397.\n",
      "[I 2025-06-03 09:58:41,429] Trial 18 finished with value: 246.4313391969356 and parameters: {'n_estimators': 827, 'max_depth': 18, 'min_samples_split': 5, 'min_samples_leaf': 4}. Best is trial 11 with value: 243.06619668863397.\n",
      "[I 2025-06-03 09:58:46,179] Trial 19 finished with value: 246.58010917324373 and parameters: {'n_estimators': 630, 'max_depth': 5, 'min_samples_split': 7, 'min_samples_leaf': 3}. Best is trial 11 with value: 243.06619668863397.\n",
      "[I 2025-06-03 09:59:00,642] Trial 20 finished with value: 250.03948799400365 and parameters: {'n_estimators': 704, 'max_depth': 21, 'min_samples_split': 2, 'min_samples_leaf': 2}. Best is trial 11 with value: 243.06619668863397.\n",
      "[I 2025-06-03 09:59:07,064] Trial 21 finished with value: 242.72646649521175 and parameters: {'n_estimators': 594, 'max_depth': 8, 'min_samples_split': 2, 'min_samples_leaf': 2}. Best is trial 21 with value: 242.72646649521175.\n",
      "[I 2025-06-03 09:59:12,709] Trial 22 finished with value: 243.15084584216714 and parameters: {'n_estimators': 463, 'max_depth': 9, 'min_samples_split': 3, 'min_samples_leaf': 2}. Best is trial 21 with value: 242.72646649521175.\n",
      "[I 2025-06-03 09:59:19,310] Trial 23 finished with value: 244.0706040400233 and parameters: {'n_estimators': 460, 'max_depth': 11, 'min_samples_split': 3, 'min_samples_leaf': 3}. Best is trial 21 with value: 242.72646649521175.\n",
      "[I 2025-06-03 09:59:25,790] Trial 24 finished with value: 247.8471657326972 and parameters: {'n_estimators': 362, 'max_depth': 14, 'min_samples_split': 3, 'min_samples_leaf': 2}. Best is trial 21 with value: 242.72646649521175.\n",
      "[I 2025-06-03 09:59:32,566] Trial 25 finished with value: 242.7719610533476 and parameters: {'n_estimators': 564, 'max_depth': 9, 'min_samples_split': 5, 'min_samples_leaf': 3}. Best is trial 21 with value: 242.72646649521175.\n",
      "[I 2025-06-03 09:59:43,428] Trial 26 finished with value: 247.93008795058327 and parameters: {'n_estimators': 581, 'max_depth': 21, 'min_samples_split': 5, 'min_samples_leaf': 3}. Best is trial 21 with value: 242.72646649521175.\n",
      "[I 2025-06-03 09:59:49,683] Trial 27 finished with value: 242.43025194506237 and parameters: {'n_estimators': 579, 'max_depth': 8, 'min_samples_split': 7, 'min_samples_leaf': 4}. Best is trial 27 with value: 242.43025194506237.\n",
      "[I 2025-06-03 09:59:58,889] Trial 28 finished with value: 245.7707186032254 and parameters: {'n_estimators': 555, 'max_depth': 30, 'min_samples_split': 7, 'min_samples_leaf': 5}. Best is trial 27 with value: 242.43025194506237.\n",
      "[I 2025-06-03 10:00:05,137] Trial 29 finished with value: 245.86146554320152 and parameters: {'n_estimators': 371, 'max_depth': 50, 'min_samples_split': 10, 'min_samples_leaf': 5}. Best is trial 27 with value: 242.43025194506237.\n"
     ]
    }
   ],
   "source": [
    "study = optuna.create_study(direction='minimize')\n",
    "study.optimize(objective, n_trials=30)"
   ]
  },
  {
   "cell_type": "markdown",
   "id": "df8a6047-44a0-4f57-b7bd-8ccda4078874",
   "metadata": {},
   "source": [
    "# Train final Model with Best params from optuna and predict"
   ]
  },
  {
   "cell_type": "code",
   "execution_count": 32,
   "id": "0e915d63-1296-4da7-8a75-044e87536b7c",
   "metadata": {},
   "outputs": [],
   "source": [
    "best_params = study.best_params\n",
    "model = RandomForestRegressor(**best_params)\n",
    "model.fit(X, y)\n",
    "preds = model.predict(X_test)"
   ]
  },
  {
   "cell_type": "markdown",
   "id": "d3b10a6f-39b5-4f07-8754-22cf5e3340ad",
   "metadata": {},
   "source": [
    "## 6. Submission File"
   ]
  },
  {
   "cell_type": "code",
   "execution_count": 34,
   "id": "15b8c4db-53aa-40aa-9ba9-91296db8295f",
   "metadata": {},
   "outputs": [
    {
     "data": {
      "text/html": [
       "<div>\n",
       "<style scoped>\n",
       "    .dataframe tbody tr th:only-of-type {\n",
       "        vertical-align: middle;\n",
       "    }\n",
       "\n",
       "    .dataframe tbody tr th {\n",
       "        vertical-align: top;\n",
       "    }\n",
       "\n",
       "    .dataframe thead th {\n",
       "        text-align: right;\n",
       "    }\n",
       "</style>\n",
       "<table border=\"1\" class=\"dataframe\">\n",
       "  <thead>\n",
       "    <tr style=\"text-align: right;\">\n",
       "      <th></th>\n",
       "      <th>id</th>\n",
       "      <th>yield</th>\n",
       "    </tr>\n",
       "  </thead>\n",
       "  <tbody>\n",
       "    <tr>\n",
       "      <th>0</th>\n",
       "      <td>15000</td>\n",
       "      <td>5550.581655</td>\n",
       "    </tr>\n",
       "    <tr>\n",
       "      <th>1</th>\n",
       "      <td>15001</td>\n",
       "      <td>6335.442007</td>\n",
       "    </tr>\n",
       "    <tr>\n",
       "      <th>2</th>\n",
       "      <td>15002</td>\n",
       "      <td>5546.580174</td>\n",
       "    </tr>\n",
       "    <tr>\n",
       "      <th>3</th>\n",
       "      <td>15003</td>\n",
       "      <td>3083.345956</td>\n",
       "    </tr>\n",
       "    <tr>\n",
       "      <th>4</th>\n",
       "      <td>15004</td>\n",
       "      <td>3363.252236</td>\n",
       "    </tr>\n",
       "  </tbody>\n",
       "</table>\n",
       "</div>"
      ],
      "text/plain": [
       "      id        yield\n",
       "0  15000  5550.581655\n",
       "1  15001  6335.442007\n",
       "2  15002  5546.580174\n",
       "3  15003  3083.345956\n",
       "4  15004  3363.252236"
      ]
     },
     "execution_count": 34,
     "metadata": {},
     "output_type": "execute_result"
    }
   ],
   "source": [
    "submission = pd.DataFrame({\n",
    "    \"id\": test_ids,\n",
    "    \"yield\": test_preds\n",
    "})\n",
    "\n",
    "submission.to_csv(\"submission.csv\", index=False)\n",
    "submission.head()"
   ]
  },
  {
   "cell_type": "code",
   "execution_count": null,
   "id": "c639bd7e-24a2-418a-a056-714a48ed0256",
   "metadata": {},
   "outputs": [],
   "source": []
  }
 ],
 "metadata": {
  "kernelspec": {
   "display_name": "Python 3 (ipykernel)",
   "language": "python",
   "name": "python3"
  },
  "language_info": {
   "codemirror_mode": {
    "name": "ipython",
    "version": 3
   },
   "file_extension": ".py",
   "mimetype": "text/x-python",
   "name": "python",
   "nbconvert_exporter": "python",
   "pygments_lexer": "ipython3",
   "version": "3.13.3"
  }
 },
 "nbformat": 4,
 "nbformat_minor": 5
}
