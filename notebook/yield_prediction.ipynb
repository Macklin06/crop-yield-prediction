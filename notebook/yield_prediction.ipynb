{
 "cells": [
  {
   "cell_type": "markdown",
   "id": "9c1f13a7",
   "metadata": {},
   "source": [
    "# Yield Prediction using XGBoost and Optuna\n",
    "\n",
    "This notebook solves problem using XGBoost Regressor and Optuna for hyperparameter tuning."
   ]
  },
  {
   "cell_type": "markdown",
   "id": "6e3864a4",
   "metadata": {},
   "source": [
    "## Step 1: Import Libraries"
   ]
  },
  {
   "cell_type": "code",
   "execution_count": null,
   "id": "a558f2d8",
   "metadata": {},
   "outputs": [],
   "source": [
    "import pandas as pd\n",
    "import xgboost as xgb\n",
    "from sklearn.model_selection import KFold, cross_val_score\n",
    "import optuna"
   ]
  },
  {
   "cell_type": "markdown",
   "id": "46c7b8c0",
   "metadata": {},
   "source": [
    "##  Step 2: Load the Dataset"
   ]
  },
  {
   "cell_type": "code",
   "execution_count": null,
   "id": "3dc5c38f",
   "metadata": {},
   "outputs": [],
   "source": [
    "train = pd.read_csv(\"train.csv\")\n",
    "test = pd.read_csv(\"test.csv\")"
   ]
  },
  {
   "cell_type": "markdown",
   "id": "a18064fa",
   "metadata": {},
   "source": [
    "##  Step 3: Prepare Features and Target"
   ]
  },
  {
   "cell_type": "code",
   "execution_count": null,
   "id": "d171a8ad",
   "metadata": {},
   "outputs": [],
   "source": [
    "X = train.drop(columns=[\"id\", \"yield\"])\n",
    "y = train[\"yield\"]\n",
    "X_test = test.drop(columns=[\"id\"])"
   ]
  },
  {
   "cell_type": "markdown",
   "id": "61996d28",
   "metadata": {},
   "source": [
    "## Step 4: Set up Cross-Validation"
   ]
  },
  {
   "cell_type": "code",
   "execution_count": null,
   "id": "4c7ccc8a",
   "metadata": {},
   "outputs": [],
   "source": [
    "cv = KFold(n_splits=5, shuffle=True, random_state=42)"
   ]
  },
  {
   "cell_type": "markdown",
   "id": "147935b2",
   "metadata": {},
   "source": [
    "## Step 5: Define the Optuna Objective Function"
   ]
  },
  {
   "cell_type": "code",
   "execution_count": null,
   "id": "6ae6987c",
   "metadata": {},
   "outputs": [],
   "source": [
    "def objective(trial):\n",
    "    params = {\n",
    "        'n_estimators': trial.suggest_int('n_estimators', 100, 500),\n",
    "        'max_depth': trial.suggest_int('max_depth', 3, 10),\n",
    "        'learning_rate': trial.suggest_float('learning_rate', 0.01, 0.3),\n",
    "        'subsample': trial.suggest_float('subsample', 0.5, 1.0),\n",
    "        'colsample_bytree': trial.suggest_float('colsample_bytree', 0.5, 1.0),\n",
    "        'gamma': trial.suggest_float('gamma', 0, 5),\n",
    "        'reg_alpha': trial.suggest_float('reg_alpha', 0, 1),\n",
    "        'reg_lambda': trial.suggest_float('reg_lambda', 0, 1),\n",
    "        'random_state': 42\n",
    "    }\n",
    "    model = xgb.XGBRegressor(**params)\n",
    "    score = cross_val_score(model, X, y, scoring='neg_mean_absolute_error', cv=cv).mean()\n",
    "    return -score"
   ]
  },
  {
   "cell_type": "markdown",
   "id": "9b950229",
   "metadata": {},
   "source": [
    "## Step 6: Run the Optuna Study"
   ]
  },
  {
   "cell_type": "code",
   "execution_count": null,
   "id": "9b4cd1cb",
   "metadata": {},
   "outputs": [],
   "source": [
    "study = optuna.create_study(direction='minimize')\n",
    "study.optimize(objective, n_trials=25)"
   ]
  },
  {
   "cell_type": "markdown",
   "id": "5b53d3c0",
   "metadata": {},
   "source": [
    "## Step 7: Train Final Model with Best Parameters"
   ]
  },
  {
   "cell_type": "code",
   "execution_count": null,
   "id": "e67410fa",
   "metadata": {},
   "outputs": [],
   "source": [
    "best_model = xgb.XGBRegressor(**study.best_params)\n",
    "best_model.fit(X, y)"
   ]
  },
  {
   "cell_type": "markdown",
   "id": "a3a216b0",
   "metadata": {},
   "source": [
    "## Step 8: Make Predictions on Test Set"
   ]
  },
  {
   "cell_type": "code",
   "execution_count": null,
   "id": "1a29d076",
   "metadata": {},
   "outputs": [],
   "source": [
    "preds = best_model.predict(X_test)"
   ]
  },
  {
   "cell_type": "markdown",
   "id": "e9907dec",
   "metadata": {},
   "source": [
    "## Step 9: Save Submission File"
   ]
  },
  {
   "cell_type": "code",
   "execution_count": null,
   "id": "32e42236",
   "metadata": {},
   "outputs": [],
   "source": [
    "submission = pd.DataFrame({\n",
    "    'id': test['id'],\n",
    "    'yield': preds\n",
    "})\n",
    "submission.to_csv('submission.csv', index=False)"
   ]
  }
 ],
 "metadata": {
  "language_info": {
   "name": "python"
  }
 },
 "nbformat": 4,
 "nbformat_minor": 5
}
